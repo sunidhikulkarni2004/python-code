{
 "cells": [
  {
   "cell_type": "code",
   "execution_count": null,
   "id": "8845b9e5-f17a-4354-a671-5909c6604e3f",
   "metadata": {},
   "outputs": [],
   "source": [
    "import os\n",
    "\n",
    "try:"
   ]
  },
  {
   "cell_type": "code",
   "execution_count": null,
   "id": "03ef6a96-5427-4e0c-85f7-0f8fc8f25f06",
   "metadata": {},
   "outputs": [],
   "source": [
    "with open(\"sample.txt\",'w') as F:\n",
    "   pass"
   ]
  },
  {
   "cell_type": "markdown",
   "id": "76cf0ab8-aa5f-4da1-a827-5eb7ac4a6dec",
   "metadata": {},
   "source": [
    "OOPS\n",
    "\n",
    "data abstraction - hiding the data member and member function from\n",
    "-> incapsulation - wrapping of data under a single unit\n",
    "-> inheritance - creating \n",
    "-> polymorphism -\n",
    "\n",
    "self - it denotes itself(python)\n",
    "init function - __init__ - constructor of class\n",
    "\n"
   ]
  },
  {
   "cell_type": "code",
   "execution_count": 2,
   "id": "940209f7-3e7e-49d0-9d29-7dfb247919f4",
   "metadata": {},
   "outputs": [
    {
     "name": "stdout",
     "output_type": "stream",
     "text": [
      "<class 'int'>\n"
     ]
    }
   ],
   "source": [
    "a = 5\n",
    "print(type(a))"
   ]
  },
  {
   "cell_type": "code",
   "execution_count": 3,
   "id": "8e56af93-91f2-4cbb-9033-4eb3b4552974",
   "metadata": {},
   "outputs": [
    {
     "name": "stdout",
     "output_type": "stream",
     "text": [
      "this laptop have i5 8gm Ram 1TB SSD\n"
     ]
    }
   ],
   "source": [
    "class laptop:\n",
    "    a = 0\n",
    "    def config(self):\n",
    "        print(\"this laptop have i5 8gm Ram 1TB SSD\")\n",
    "\n",
    "hp = laptop()\n",
    "dell = laptop()\n",
    "lenovo = laptop()\n",
    "\n",
    "hp.config()\n",
    "print(hp.a)\n",
    "\n"
   ]
  },
  {
   "cell_type": "markdown",
   "id": "26869859-6d0b-47cb-a665-95d9bd1d3fe5",
   "metadata": {},
   "source": [
    "create laptop class\n",
    "with variable as processor, Ram and storage\n",
    "\n",
    "create function to print the configuration of the laptops\n",
    "\n",
    "create 3 object of laptop with brand and display its configuration"
   ]
  },
  {
   "cell_type": "code",
   "execution_count": 6,
   "id": "d04c736d-d70f-4234-a32e-c54f71ca581a",
   "metadata": {},
   "outputs": [
    {
     "name": "stdout",
     "output_type": "stream",
     "text": [
      "this laptop have i5 8gm Ram 1TB SSD\n",
      "0\n",
      "hp\n",
      "this laptop have i5 8gm Ram 1TB SSD\n",
      "0\n",
      "lenovo\n",
      "this laptop have i5 8gm Ram 1TB SSD\n",
      "0\n",
      "acess\n"
     ]
    }
   ],
   "source": [
    "class laptop:\n",
    "    a = 0\n",
    "    def config(self):\n",
    "        print(\"this laptop have i5 8gm Ram 1TB SSD\")\n",
    "\n",
    "hp = laptop()\n",
    "lenovo = laptop()\n",
    "acess= laptop()\n",
    "\n",
    "\n",
    "hp.config()\n",
    "print(hp.a)\n",
    "print(\"hp\")\n",
    "lenovo.config()\n",
    "print(lenovo.a)\n",
    "print(\"lenovo\")\n",
    "acess.config()\n",
    "print(acess.a)\n",
    "print(\"acess\")"
   ]
  },
  {
   "cell_type": "code",
   "execution_count": 8,
   "id": "958ef88d-43d0-4cef-8b06-70a095b0c139",
   "metadata": {},
   "outputs": [
    {
     "name": "stdout",
     "output_type": "stream",
     "text": [
      "configuration of the laptop is: \n",
      "processor i5\n",
      "Ram 8\n",
      "storage 512\n"
     ]
    }
   ],
   "source": [
    "class laptop:\n",
    "    def __init__(self,p,r,s):\n",
    "        self.processor=p\n",
    "        self.ram=r\n",
    "        self.storage=s\n",
    "\n",
    "    def config(self):\n",
    "        print(\"configuration of the laptop is: \")\n",
    "        print(\"processor\",self.processor)\n",
    "        print(\"Ram\",self.ram)\n",
    "        print(\"storage\",self.storage)\n",
    "\n",
    "if __name__==\"__main__\":\n",
    "    hp = laptop(\"i5\",8,512)\n",
    "    hp.config()    "
   ]
  },
  {
   "cell_type": "markdown",
   "id": "6fd11596-598d-44a6-82b7-635cfa645705",
   "metadata": {},
   "source": [
    "create a class student which can hold the marks in 5 subjects and also create a functions to print the marks and calculate the avg of 5 subjects"
   ]
  },
  {
   "cell_type": "code",
   "execution_count": 8,
   "id": "ef59d5dc-8a7d-4dfb-9ddf-2680873c7555",
   "metadata": {},
   "outputs": [
    {
     "name": "stdout",
     "output_type": "stream",
     "text": [
      "the marks of the student: \n",
      "subject1: 100\n",
      "subject2: 75\n",
      "subject3: 35\n",
      "subject4: 60\n",
      "subject5: 80\n",
      "Average of the Marks =  70.0\n"
     ]
    }
   ],
   "source": [
    "class student:\n",
    "    def __init__(self,marks1,marks2,marks3,marks4,marks5):\n",
    "        self.s1 = marks1\n",
    "        self.s2 = marks2\n",
    "        self.s3 = marks3\n",
    "        self.s4 = marks4\n",
    "        self.s5 = marks5\n",
    "\n",
    "    def marksheet(self):\n",
    "        print(\"the marks of the student: \")\n",
    "        print(\"subject1:\",self.s1)\n",
    "        print(\"subject2:\",self.s2)\n",
    "        print(\"subject3:\",self.s3)\n",
    "        print(\"subject4:\",self.s4)\n",
    "        print(\"subject5:\",self.s5)\n",
    "        print(\"Average of the Marks = \",(self.s1+self.s2+self.s3+self.s4+self.s5)/5)\n",
    "\n",
    "if __name__==\"__main__\":\n",
    "    student1=student(100,75,35,60,80)\n",
    "    student1.marksheet()\n",
    "\n",
    "\n"
   ]
  },
  {
   "cell_type": "code",
   "execution_count": 4,
   "id": "448935a9-664f-4252-bb9d-bf1da13d44e9",
   "metadata": {},
   "outputs": [
    {
     "name": "stdout",
     "output_type": "stream",
     "text": [
      "this is fun1\n",
      "this is fun2\n",
      "this is fun3\n",
      "this is fun4\n"
     ]
    }
   ],
   "source": [
    "class a:\n",
    "    def fun1(self):\n",
    "        print(\"this is fun1\")\n",
    "    def fun2(self):\n",
    "        print(\"this is fun2\")\n",
    "\n",
    "class b:\n",
    "    def fun3(self):\n",
    "        print(\"this is fun3\")\n",
    "    def fun4(self):\n",
    "        print(\"this is fun4\")\n",
    "\n",
    "if __name__==\"__main__\":\n",
    "    ob1=a()\n",
    "    ob2=b()\n",
    "\n",
    "    ob1.fun1()\n",
    "    ob1.fun2()\n",
    "    ob2.fun3()\n",
    "    ob2.fun4()\n",
    "\n",
    "    "
   ]
  },
  {
   "cell_type": "code",
   "execution_count": 10,
   "id": "9ecc42ff-db2a-4b0a-a021-f8932f598256",
   "metadata": {},
   "outputs": [
    {
     "name": "stdout",
     "output_type": "stream",
     "text": [
      "constructor of class C\n"
     ]
    }
   ],
   "source": [
    "class A:\n",
    "    def __init__(self):\n",
    "        print(\"constructor of class A\")\n",
    "\n",
    "class B:\n",
    "    def __init__(self):\n",
    "        print(\"constructor of class B\")  \n",
    "\n",
    "class C:\n",
    "    def __init__(self):\n",
    "        print(\"constructor of class C\")  \n",
    "\n",
    "class D:\n",
    "    def __init__(self):\n",
    "        print(\"constructor of class D\")   \n",
    "\n",
    "if __name__==\"__main__\":\n",
    "    ob1=C()\n"
   ]
  },
  {
   "cell_type": "code",
   "execution_count": 1,
   "id": "c84c6428-8399-4871-8edc-2e63906e7f07",
   "metadata": {},
   "outputs": [
    {
     "name": "stdout",
     "output_type": "stream",
     "text": [
      "constructor of class a\n"
     ]
    }
   ],
   "source": [
    "class a:\n",
    "    def __init__(self):\n",
    "        print(\"constructor of class a\")\n",
    "\n",
    "class b:\n",
    "    def __init__(self):\n",
    "        print(\"constructor of class b\")  \n",
    "\n",
    "class c(a):\n",
    "    def __init__(self):\n",
    "        print(\"constructor of class c\")  \n",
    "\n",
    "class d(b,c):\n",
    "    def __init__(self):\n",
    "        print(\"constructor of class d\")   \n",
    "\n",
    "if __name__==\"__main__\":\n",
    "    ob1=a()"
   ]
  },
  {
   "cell_type": "code",
   "execution_count": 17,
   "id": "d3722db2-b998-4c7d-b895-a822dda782b6",
   "metadata": {},
   "outputs": [
    {
     "name": "stdout",
     "output_type": "stream",
     "text": [
      "constructor of class d\n"
     ]
    }
   ],
   "source": [
    "class a:\n",
    "    def __init__(self):\n",
    "        print(\"constructor of class a\")\n",
    "    def show(self):\n",
    "        print(\"printing the show of a\")\n",
    "\n",
    "class b:\n",
    "    def __init__(self):\n",
    "        print(\"constructor of class b\")\n",
    "    def show(self):\n",
    "        print(\"printing the show of b\")\n",
    "        \n",
    "class c(a):\n",
    "    def __init__(self):\n",
    "        print(\"constructor of class c\")\n",
    "    def show(self):\n",
    "        print(\"printing the show of c\")\n",
    "        super().show()\n",
    "\n",
    "class d:\n",
    "    def __init__(self):\n",
    "        print(\"constructor of class d\")\n",
    "    def show(self):\n",
    "        print(\"printing the show of d\")\n",
    "\n",
    "if __name__==\"__main__\":\n",
    "    ob1=d()\n",
    "    ob1.show()"
   ]
  },
  {
   "cell_type": "code",
   "execution_count": 26,
   "id": "6b0a8073-f6f1-4efd-9c3a-967626ee2759",
   "metadata": {},
   "outputs": [
    {
     "name": "stdout",
     "output_type": "stream",
     "text": [
      "Ticket booked Fare Price will be:  6550\n"
     ]
    }
   ],
   "source": [
    "class ticket:\n",
    "   \n",
    "    def __init__(self,D):\n",
    "        self.distance = int(D)\n",
    "        self.farePrice = None\n",
    "\n",
    "class gen(ticket):\n",
    "    def __init__(self,D):\n",
    "        super().__init__(D)\n",
    "    def print_ticket(self):\n",
    "        self.farePrice=50+(self.distance*2)\n",
    "        return self.farePrice\n",
    "        \n",
    "\n",
    "\n",
    "class slp(gen):\n",
    "    def __init__(self,D):\n",
    "        super().__init__(D)\n",
    "\n",
    "    def print_ticket(self):\n",
    "        self.farePrice=super().print_ticket()+(2*self.distance)\n",
    "        return self.farePrice\n",
    "\n",
    "class AC(slp):\n",
    "    def __init__(self,D):\n",
    "        super().__init__(D)\n",
    "    def print_ticket(self):\n",
    "        self.farePrice=super().print_ticket()+(4*self.distance)\n",
    "        return self.farePrice\n",
    "\n",
    "class FC(AC):\n",
    "    def __init__(self,D):\n",
    "        super().__init__(D)\n",
    "    def print_ticket(self):\n",
    "        self.farePrice=super().print_ticket()+(5*self.distance)\n",
    "        return self.farePrice\n",
    "\n",
    "\n",
    "jur = FC(500)\n",
    "print(\"Ticket booked Fare Price will be: \",jur.print_ticket())"
   ]
  },
  {
   "cell_type": "code",
   "execution_count": 10,
   "id": "6a1493b5-1110-47f9-9a72-b9d3e9211ab1",
   "metadata": {},
   "outputs": [
    {
     "name": "stdout",
     "output_type": "stream",
     "text": [
      "Professional laptop specifications: 8hr i9 8 512\n",
      "Gaming laptop specifications: 9 i7 16 512\n"
     ]
    }
   ],
   "source": [
    "class laptop:\n",
    "    def __init__(self, p, r, s):\n",
    "        self.processor = p\n",
    "        self.ram = r\n",
    "        self.storage = s\n",
    "          \n",
    "\n",
    "class professional(laptop):\n",
    "    def __init__(self, bat, p, r, s):\n",
    "        self.batterybackup = bat\n",
    "        super().__init__(p, r, s)\n",
    "\n",
    "   \n",
    "class gaming(laptop):\n",
    "    def __init__(self, graphic, p, r, s):\n",
    "        self.graphiccard = graphic\n",
    "        super().__init__(p, r, s)\n",
    "        \n",
    "obj1 = laptop('i7', 16, 512)\n",
    "obj2 = professional('8hr', 'i9', 8, 512)\n",
    "obj3 = gaming(\"9\", 'i7', '16', 512)\n",
    "\n",
    "print(\"Professional laptop specifications:\", obj2.batterybackup, obj2.processor, obj2.ram, obj2.storage)\n",
    "print(\"Gaming laptop specifications:\", obj3.graphiccard, obj3.processor, obj3.ram, obj3.storage)"
   ]
  },
  {
   "cell_type": "code",
   "execution_count": null,
   "id": "48613b88-8d35-4eb4-b80d-5e922e5f92db",
   "metadata": {},
   "outputs": [],
   "source": []
  }
 ],
 "metadata": {
  "kernelspec": {
   "display_name": "Python 3 (ipykernel)",
   "language": "python",
   "name": "python3"
  },
  "language_info": {
   "codemirror_mode": {
    "name": "ipython",
    "version": 3
   },
   "file_extension": ".py",
   "mimetype": "text/x-python",
   "name": "python",
   "nbconvert_exporter": "python",
   "pygments_lexer": "ipython3",
   "version": "3.12.3"
  }
 },
 "nbformat": 4,
 "nbformat_minor": 5
}
