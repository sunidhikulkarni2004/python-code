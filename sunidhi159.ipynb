{
 "cells": [
  {
   "cell_type": "code",
   "execution_count": 2,
   "id": "ab501745-c100-4591-878e-6418d4d47eb4",
   "metadata": {},
   "outputs": [
    {
     "name": "stdout",
     "output_type": "stream",
     "text": [
      "*\n",
      "**\n",
      "***\n",
      "****\n",
      "*****\n",
      "******\n",
      "*******\n",
      "********\n",
      "*********\n",
      "**********\n"
     ]
    }
   ],
   "source": [
    "for y in range(0,10):\n",
    "    for x in range(0,y+1):\n",
    "        print(\"*\",end=\"\")\n",
    "    print()    "
   ]
  },
  {
   "cell_type": "code",
   "execution_count": 6,
   "id": "a9b62a05-7402-4f21-9b55-c45c4d3aea8a",
   "metadata": {},
   "outputs": [
    {
     "name": "stdin",
     "output_type": "stream",
     "text": [
      "enter the length of series 12\n"
     ]
    },
    {
     "name": "stdout",
     "output_type": "stream",
     "text": [
      "0 1 1 2 3 5 8 13 21 34 55 89 "
     ]
    }
   ],
   "source": [
    "a=0\n",
    "b=1\n",
    "n=int(input(\"enter the length of series\"))\n",
    "print(a,b,end=\" \")\n",
    "for y in range(0,n-2):\n",
    "    c=a+b\n",
    "    print(c,end=\" \")\n",
    "    a=b\n",
    "    b=c"
   ]
  },
  {
   "cell_type": "markdown",
   "id": "a679d9c2-db1a-41cf-9a61-842859c69062",
   "metadata": {},
   "source": [
    "def add(x, y):\n",
    "    return x + y\n",
    "def subtract(x, y):\n",
    "    return x - y\n",
    "def multiply(x, y):\n",
    "    return x * y\n",
    "def divide(x, y):\n",
    "    if y == 0:\n",
    "        return \"error! division by zero\"\n",
    "    else:\n",
    "        return x / y\n",
    "def modulo(x, y):\n",
    "    if y == 0:\n",
    "        return \"error! modulo by zero\"\n",
    "    else:\n",
    "        return x % y\n",
    "while True:\n",
    "    print(\"\\nmenu:\")\n",
    "    print(\"1. addition\")\n",
    "    print(\"2. subtraction\")\n",
    "    print(\"3. multiplication\")\n",
    "    print(\"4. division\")\n",
    "    print(\"5. modulo\")\n",
    "    print(\"6. exit\")\n",
    "\n",
    "    choice = input(\"enter your choice (1/2/3/4/5/6): \")\n",
    "    if choice in ('1','2','3','4','5'):\n",
    "        num1 = float(input(\"enter first number: \"))\n",
    "        num2 = float(input(\"enter second number: \"))\n",
    "        if choice == '1':\n",
    "            print(\"result:\",add(num1, num2))\n",
    "        elif choice == '2':\n",
    "            print(\"result:\",subtract(num1, num2))\n",
    "        elif choice == '3':\n",
    "            print(\"result:\",multiply(num1, num2))\n",
    "        elif choice == '4':\n",
    "            print(\"result:\",divide(num1, num2))\n",
    "        elif choice == '5':\n",
    "            print(\"result:\",modulo(num1, num2))\n",
    "        elif choice == '6':\n",
    "            print(\"exiting...\")\n",
    "            break\n",
    "        else:\n",
    "            print(\"invalid input. please enter a number from 1 to 6\")\n",
    "            \n",
    "\n",
    "     \n",
    "        "
   ]
  },
  {
   "cell_type": "code",
   "execution_count": 15,
   "id": "ec223d46-8cce-4cef-b281-112a95ee0709",
   "metadata": {},
   "outputs": [
    {
     "name": "stdin",
     "output_type": "stream",
     "text": [
      "enter a string:  4\n"
     ]
    },
    {
     "name": "stdout",
     "output_type": "stream",
     "text": [
      "the string is a palindrome\n"
     ]
    }
   ],
   "source": [
    "def is_palindrome(s):\n",
    "    s = s.lower().replace(\" \",\"\")\n",
    "    return s == s[::-1]\n",
    "string = input(\"enter a string: \")\n",
    "if is_palindrome(string):\n",
    "    print(\"the string is a palindrome\")\n",
    "else:\n",
    "    print(\"the string is not a palindrome\")"
   ]
  },
  {
   "cell_type": "code",
   "execution_count": 3,
   "id": "8b2f3abc-9a46-4f08-8449-3109f6013ccc",
   "metadata": {},
   "outputs": [
    {
     "name": "stdin",
     "output_type": "stream",
     "text": [
      "enter a number 5\n"
     ]
    },
    {
     "name": "stdout",
     "output_type": "stream",
     "text": [
      "factorial of  5 is 120\n"
     ]
    }
   ],
   "source": [
    "def factorial(n):\n",
    "    if n==0 or n==1:\n",
    "        return 1\n",
    "    else:\n",
    "        return n*factorial (n-1)\n",
    "\n",
    "num=int(input(\"enter a number\"))\n",
    "if num<0:\n",
    "    print(\"factorial is not defined for negative number\")\n",
    "else:\n",
    "    print(\"factorial of \",num,\"is\",factorial(num))"
   ]
  },
  {
   "cell_type": "markdown",
   "id": "3f5249e6-15b8-4392-ada1-d697d811e3e1",
   "metadata": {},
   "source": [
    "def add(x, y):\n",
    "    return x + y\n",
    "def subtract(x, y):\n",
    "    return x - y\n",
    "def multiply(x, y):\n",
    "    return x * y\n",
    "def divide(x, y):\n",
    "    if y == 0:\n",
    "        return \"error! division by zero\"\n",
    "    else:\n",
    "        return x / y\n",
    "def modulo(x, y):\n",
    "    if y == 0:\n",
    "        return \"error! modulo by zero\"\n",
    "    else:\n",
    "        return x % y\n",
    "while True:\n",
    "    print(\"\\nmenu:\")\n",
    "    print(\"1. addition\")\n",
    "    print(\"2. subtraction\")\n",
    "    print(\"3. multiplication\")\n",
    "    print(\"4. division\")\n",
    "    print(\"5. modulo\")\n",
    "    print(\"6. exit\")\n",
    "\n",
    "    choice = input(\"enter your choice (1/2/3/4/5/6): \")\n",
    "    if choice in ('1','2','3','4','5'):\n",
    "        num1 = float(input(\"enter first number: \"))\n",
    "        num2 = float(input(\"enter second number: \"))\n",
    "        if choice == '1':\n",
    "            print(\"result:\",add(num1, num2))\n",
    "        elif choice == '2':\n",
    "            print(\"result:\",subtract(num1, num2))\n",
    "        elif choice == '3':\n",
    "            print(\"result:\",multiply(num1, num2))\n",
    "        elif choice == '4':\n",
    "            print(\"result:\",divide(num1, num2))\n",
    "        elif choice == '5':\n",
    "            print(\"result:\",modulo(num1, num2))\n",
    "        elif choice == '6':\n",
    "            print(\"exiting...\")\n",
    "            break\n",
    "        else:\n",
    "            print(\"invalid input. please enter a number from 1 to 6\")\n",
    "            "
   ]
  },
  {
   "cell_type": "code",
   "execution_count": 1,
   "id": "e991dc42-2d57-46b6-85ac-3f2b34f2e4df",
   "metadata": {},
   "outputs": [
    {
     "name": "stdout",
     "output_type": "stream",
     "text": [
      "[0, 1, 2, 3, 4]\n"
     ]
    }
   ],
   "source": [
    "my_list = []\n",
    "\n",
    "for i in range(5):\n",
    "    my_list.append(i)\n",
    "\n",
    "print(my_list)\n"
   ]
  },
  {
   "cell_type": "code",
   "execution_count": 2,
   "id": "349a0bab-d0df-45e1-9343-76e3518e62e4",
   "metadata": {},
   "outputs": [
    {
     "name": "stdout",
     "output_type": "stream",
     "text": [
      "1\n",
      "2\n",
      "3\n",
      "4\n",
      "5.6\n"
     ]
    }
   ],
   "source": [
    "x = [1,2,3,4,5.6,7]\n",
    "for a in range(0,5):\n",
    "    print(x[a])"
   ]
  },
  {
   "cell_type": "code",
   "execution_count": 9,
   "id": "c1e79693-b039-4ecd-85f3-80c23ab06a27",
   "metadata": {},
   "outputs": [
    {
     "name": "stdout",
     "output_type": "stream",
     "text": [
      "[2, 3, 4, 5]\n",
      "5\n",
      "[2, 3, 4]\n",
      "[2, 3, 4, 10, 7, 3, 5]\n",
      "1\n",
      "2\n",
      "1\n",
      "[2, 3, 4, 10, 9, 7, 3, 5]\n",
      "[2, 4, 10, 9, 7, 3, 5]\n",
      "[10, 9, 7, 5, 4, 3, 2]\n",
      "7\n",
      "[10, 9, 7, 5, 4, 3, 2, 2, 3, 4, 5]\n"
     ]
    }
   ],
   "source": [
    "a = [2,3,4,5]\n",
    "b=a . copy()\n",
    "print(b)\n",
    "\n",
    "c=b.pop(3)\n",
    "print(c)\n",
    "\n",
    "print(b)\n",
    "b.append(10)\n",
    "b.append(7)\n",
    "b.append(3)\n",
    "b.append(5)\n",
    "print(b)\n",
    "\n",
    "print(b.index(3))\n",
    "print(b.count(3))\n",
    "print(b.count(10))\n",
    "b.insert(4,9)\n",
    "print(b)\n",
    "\n",
    "b.remove(3)\n",
    "print(b)\n",
    "b.sort(reverse=True)\n",
    "print(b)\n",
    "\n",
    "print(len(b))\n",
    "\n",
    "b.extend(a)\n",
    "print(b)\n"
   ]
  },
  {
   "cell_type": "markdown",
   "id": "b86242d8-b899-4046-b599-e2f15789cceb",
   "metadata": {},
   "source": [
    "->copy - return the copy list\n",
    "->pop - remove and return item at idex (default last)\n",
    "->index - return first idex of value\n",
    "->count - return number of occurences of value\n",
    "->insert - insert object before index\n",
    "->remove - remove first occurence of value\n",
    "->sort - sort the list in ascending order and return none\n",
    "->len(list) - length of the list\n",
    "->extend - concatinating with other list"
   ]
  },
  {
   "cell_type": "code",
   "execution_count": 10,
   "id": "dcfbd7f9-ef8b-4be8-8a27-33bc904867ad",
   "metadata": {},
   "outputs": [
    {
     "name": "stdout",
     "output_type": "stream",
     "text": [
      "10\n",
      "9\n",
      "7\n",
      "63\n",
      "5\n",
      "3\n",
      "2\n",
      "3\n",
      "1\n",
      "11\n",
      "2\n",
      "3\n",
      "43\n",
      "45\n",
      "1\n",
      "2\n",
      "63\n",
      "4\n",
      "5\n"
     ]
    }
   ],
   "source": [
    "a = [10,9,7,63,5,3,2,3,1,11,2,3,43,45,1,2,63,4,5]\n",
    "for x in a:\n",
    "    print(x)"
   ]
  },
  {
   "cell_type": "code",
   "execution_count": 17,
   "id": "a0b79ee1-adc3-4a3c-abb2-477a554acea1",
   "metadata": {},
   "outputs": [
    {
     "name": "stdin",
     "output_type": "stream",
     "text": [
      "enter the size of list 4\n",
      " 2\n",
      " 4\n",
      " 3\n",
      " 1\n"
     ]
    },
    {
     "name": "stdout",
     "output_type": "stream",
     "text": [
      "['2', '4', '3', '1']\n"
     ]
    }
   ],
   "source": [
    "n = int(input(\"enter the size of list: \"))\n",
    "a = []\n",
    "for x in range(0,n):\n",
    "    x = input()\n",
    "    a.append(x)\n",
    "print(a)"
   ]
  },
  {
   "cell_type": "code",
   "execution_count": 16,
   "id": "bafd13cb-210c-4d52-9fae-a530eda5c9f9",
   "metadata": {},
   "outputs": [
    {
     "name": "stdin",
     "output_type": "stream",
     "text": [
      "enter the elements of the list:  1 2 3 4 5 6 7 \n"
     ]
    },
    {
     "name": "stdout",
     "output_type": "stream",
     "text": [
      "[1, 2, 3, 4, 5, 6, 7]\n"
     ]
    }
   ],
   "source": [
    "L = [int (item) for item in(input(\"enter the elements of the list: \")).split()]\n",
    "print(L)     "
   ]
  },
  {
   "cell_type": "markdown",
   "id": "5e78531c-b1b3-47f0-bba4-e2de41975dab",
   "metadata": {},
   "source": [
    "TUPLES\n",
    "\n",
    "-> tuple is mutable\n",
    "whereas list is inmutable\n",
    "\n",
    "->which gives rigid data and it cannot be updated\n"
   ]
  },
  {
   "cell_type": "code",
   "execution_count": 18,
   "id": "fa642b8e-bdf5-4bcd-813e-ff11339b00b6",
   "metadata": {},
   "outputs": [
    {
     "name": "stdout",
     "output_type": "stream",
     "text": [
      "[6, 5, 4, 3, 2, 1]\n"
     ]
    }
   ],
   "source": [
    "a=[1,2,3,4,5,6]\n",
    "\n",
    "a.sort(reverse=True)\n",
    "print(a)"
   ]
  },
  {
   "cell_type": "code",
   "execution_count": 19,
   "id": "3e8551d5-9e1f-45d4-8382-a07a771fc6f3",
   "metadata": {},
   "outputs": [
    {
     "name": "stdout",
     "output_type": "stream",
     "text": [
      "9\n",
      "8\n",
      "7\n",
      "6\n",
      "5\n",
      "4\n",
      "3\n",
      "2\n",
      "1\n"
     ]
    }
   ],
   "source": [
    "a=(1,2,3,4,5,6,7,8,9)\n",
    "for x in range(-1,-1*(len(a)+1),-1):\n",
    "    print(a[x])"
   ]
  },
  {
   "cell_type": "code",
   "execution_count": 21,
   "id": "f90fbbaf-eea2-4891-8767-830d8d288aeb",
   "metadata": {},
   "outputs": [
    {
     "name": "stdout",
     "output_type": "stream",
     "text": [
      "9\n",
      "8\n",
      "7\n",
      "6\n",
      "5\n",
      "4\n",
      "3\n",
      "2\n",
      "1\n"
     ]
    }
   ],
   "source": [
    "a = (1,2,3,4,5,6,7,8,9)\n",
    "for x in range(0,len(a)):\n",
    "    print(a[-1*(x+1)])"
   ]
  },
  {
   "cell_type": "markdown",
   "id": "a08afe4d-32b1-416f-a06e-1b711d9ef10a",
   "metadata": {},
   "source": [
    "DICTIONARY\n",
    "->treated as curly braces\n",
    "->\n",
    "key and values\n",
    "\n",
    "key values pair\n",
    "\n",
    "->copy - create copy of existence dist\n",
    "->key - give key of parti value\n"
   ]
  },
  {
   "cell_type": "code",
   "execution_count": 25,
   "id": "b915b783-9f6f-4de5-97cf-e19148a501c7",
   "metadata": {},
   "outputs": [
    {
     "name": "stdout",
     "output_type": "stream",
     "text": [
      "{1: 'sunidhi', 2: 'kulkarni', 3: 'sunidhi', 4: 'abcd'}\n",
      "kulkarni\n",
      "sunidhi\n",
      "dict_values(['sunidhi', 'kulkarni', 'sunidhi', 'abcd'])\n",
      "dict_keys([1, 2, 3, 4])\n",
      "dict_items([(1, 'sunidhi'), (2, 'kulkarni'), (3, 'sunidhi'), (4, 'abcd')])\n",
      "abcd\n"
     ]
    }
   ],
   "source": [
    "D={1:\"sunidhi\",2:\"kulkarni\",3:\"sunidhi\",4:\"abcd\"}\n",
    "print(D)\n",
    "\n",
    "print(D[2])\n",
    "print(D[3])\n",
    "\n",
    "print(D.values())\n",
    "print(D.keys())\n",
    "print(D.items())\n",
    "\n",
    "print(D.get(4))\n"
   ]
  },
  {
   "cell_type": "markdown",
   "id": "9e03af3f-1c21-4126-9e60-fe96ab3df47c",
   "metadata": {},
   "source": [
    "write a program to take key and value as user input and add into the dictionary if key is not present in the dictionary otherwise print key already exit and also print its value"
   ]
  },
  {
   "cell_type": "code",
   "execution_count": 29,
   "id": "1b861afe-209b-43e8-aa08-9022cf5b7a97",
   "metadata": {},
   "outputs": [
    {
     "name": "stdin",
     "output_type": "stream",
     "text": [
      "enter key:  sunidhi\n",
      "enter value:  nidhi\n"
     ]
    },
    {
     "name": "stdout",
     "output_type": "stream",
     "text": [
      "key added successfully\n",
      "updated dictionary: {'sunidhi': 'nidhi'}\n"
     ]
    }
   ],
   "source": [
    "my_dict = {}\n",
    "key = input(\"enter key: \")\n",
    "value = (input(\"enter value: \"))\n",
    "\n",
    "if key in my_dict:\n",
    "    print(\"key already exists\")\n",
    "    print(\"value:\",my_dict[key])\n",
    "else:\n",
    "    my_dict[key] = value\n",
    "    print(\"key added successfully\")\n",
    "    print(\"updated dictionary:\",my_dict)"
   ]
  },
  {
   "cell_type": "code",
   "execution_count": 1,
   "id": "2b8c29ba-2e78-47d0-97a0-8b239daf967e",
   "metadata": {},
   "outputs": [
    {
     "name": "stdin",
     "output_type": "stream",
     "text": [
      " 6\n",
      " 4\n"
     ]
    },
    {
     "name": "stdout",
     "output_type": "stream",
     "text": [
      "division sucessfull\n",
      "1.5\n",
      "error handeled\n",
      "we have received the result as :  1.5\n"
     ]
    }
   ],
   "source": [
    "a=int(input())\n",
    "b=int(input())\n",
    "try:\n",
    "    c=a/b\n",
    "except:\n",
    "    print(\"we can't divide by zero\")\n",
    "    c=0\n",
    "else:\n",
    "    print(\"division sucessfull\")\n",
    "    print(c)\n",
    "finally:\n",
    "    print(\"error handeled\")\n",
    "\n",
    "print(\"we have received the result as : \",c)\n",
    "    "
   ]
  },
  {
   "cell_type": "code",
   "execution_count": 8,
   "id": "b31b8c92-5445-41f3-bb87-330294d78606",
   "metadata": {},
   "outputs": [
    {
     "name": "stdin",
     "output_type": "stream",
     "text": [
      "enter the size: 10\n"
     ]
    },
    {
     "name": "stdout",
     "output_type": "stream",
     "text": [
      "there is no such size\n"
     ]
    }
   ],
   "source": [
    "a=[1,2,5,7,3,4,8]\n",
    "i=int(input(\"enter the size:\"))\n",
    "try:\n",
    "    print(a[i])\n",
    "except:\n",
    "    print(\"there is no such size\")\n",
    "    a=0"
   ]
  },
  {
   "cell_type": "code",
   "execution_count": null,
   "id": "3220345e-8e85-45aa-a7c1-9cd9842fb958",
   "metadata": {},
   "outputs": [],
   "source": [
    "try:\n",
    "    a=int(input())\n",
    "    b=int(input())\n",
    "    c=int(a)/int(b)\n",
    "    x=\"Hello\"/3\n",
    "except ValueError:\n",
    "    print(\"value unable to convert\")\n",
    "except ZeroDivisionError:\n",
    "    print(\"can't divide by zero\")\n",
    "except :\n",
    "    print(\"some unknown error found\")\n",
    "else:\n",
    "    print(\"no error\")\n",
    "finally:\n",
    "    print(\"code execution done\")"
   ]
  },
  {
   "cell_type": "markdown",
   "id": "1c485157-d5d6-4476-b6dc-b5da2b1d71e0",
   "metadata": {},
   "source": [
    "->write a python program to find the sum of all the elements in the list and enter the case if it is non numerical value\n",
    "->write a from to find "
   ]
  },
  {
   "cell_type": "code",
   "execution_count": 3,
   "id": "c91a39bd-478d-4495-ab34-f38a2105295f",
   "metadata": {},
   "outputs": [
    {
     "name": "stdout",
     "output_type": "stream",
     "text": [
      "[1, 2, 4, 's', 5]\n",
      "not a numeric\n",
      "sum:  7\n"
     ]
    }
   ],
   "source": [
    "x =[1,2,4,\"s\",5]\n",
    "print(x)\n",
    "sum=0\n",
    "try:\n",
    "    for i in x:\n",
    "        sum+=int(i)\n",
    "except ValueError:\n",
    "    print(\"not a numeric\")\n",
    "print(\"sum: \",sum)    "
   ]
  },
  {
   "cell_type": "code",
   "execution_count": 8,
   "id": "b2534fa1-c437-4588-bd5c-97b249b02a99",
   "metadata": {},
   "outputs": [
    {
     "name": "stdin",
     "output_type": "stream",
     "text": [
      "enter the number of students:  1\n",
      "enter the student name:  shravani\n",
      "enter student grade:  80.9\n"
     ]
    },
    {
     "name": "stdout",
     "output_type": "stream",
     "text": [
      "dictionary is empty!\n"
     ]
    }
   ],
   "source": [
    "grades_dict = {}\n",
    "num_students = int(input(\"enter the number of students: \"))\n",
    "for _ in range(num_students):\n",
    "    name = input(\"enter the student name: \")\n",
    "    grade = float(input(\"enter student grade: \"))\n",
    "    grades_dict[name] = grade\n",
    "    total_grade = 0\n",
    "    count = 0\n",
    "    for grade in grades_dict.values():\n",
    "        total_grade += grade\n",
    "        count += 1\n",
    "\n",
    "if count > 0:\n",
    "    average_grade = total_grade / count\n",
    "    print(\"dictionary is empty!\")"
   ]
  },
  {
   "cell_type": "code",
   "execution_count": 9,
   "id": "22cd6a50-efc6-415d-9742-dcea27f64044",
   "metadata": {},
   "outputs": [
    {
     "name": "stdin",
     "output_type": "stream",
     "text": [
      "Enter a character:  sunidhi\n"
     ]
    },
    {
     "name": "stdout",
     "output_type": "stream",
     "text": [
      "sunidhi is a lower case letter.\n"
     ]
    }
   ],
   "source": [
    "character = input(\"Enter a character: \")\n",
    "\n",
    "lowerLetters = \"abcdefghijklmnopqrstuvwxyz\"\n",
    "upperLetters = \"ABCDEFGHIJKLMNOPQRSTUVWXYZ\"\n",
    "digits = \"0123456789\"\n",
    "lowerCount = 0\n",
    "upperCount = 0\n",
    "digitCount = 0\n",
    "nonAlphaCount = 0\n",
    "\n",
    "for ch in character:\n",
    "    for ch in lowerLetters:\n",
    "        lowerCount += 1\n",
    "    for ch in upperLetters:\n",
    "        upperCount += 1\n",
    "    for ch in digits:\n",
    "        digitCount += 1\n",
    "    else:\n",
    "        nonAlphaCount += 1\n",
    "\n",
    "if lowerCount > 0:\n",
    "    print(character, \"is a lower case letter.\")\n",
    "elif upperCount > 0:\n",
    "    print(character, \"is an upper case letter.\")\n",
    "elif digitCount > 0:\n",
    "    print(character, \"is a digit.\")\n",
    "elif nonAlphaCount > 0:\n",
    "    print(character, \"is a non-alphanumeric character.\")"
   ]
  },
  {
   "cell_type": "code",
   "execution_count": 14,
   "id": "b9aff72f-4794-4e47-ae19-9bd326496b64",
   "metadata": {},
   "outputs": [
    {
     "name": "stdin",
     "output_type": "stream",
     "text": [
      "enter a number 6\n"
     ]
    },
    {
     "name": "stdout",
     "output_type": "stream",
     "text": [
      "it is not a prime number 6\n"
     ]
    }
   ],
   "source": [
    "def isprime(num):\n",
    "    if num <=0:\n",
    "     return 0\n",
    "    for i in range(2,int(num**2)+1):\n",
    "      if num % i == 0:\n",
    "         return 0\n",
    "         return 1\n",
    "num=int(input(\"enter a number\"))\n",
    "if isprime(num):\n",
    "    print(\"it is prime number\",num)\n",
    "else:\n",
    "    print(\"it is not a prime number\",num)"
   ]
  },
  {
   "cell_type": "code",
   "execution_count": null,
   "id": "d6a2d78e-86dc-4f59-8dba-efeafd71970b",
   "metadata": {},
   "outputs": [],
   "source": []
  }
 ],
 "metadata": {
  "kernelspec": {
   "display_name": "Python 3 (ipykernel)",
   "language": "python",
   "name": "python3"
  },
  "language_info": {
   "codemirror_mode": {
    "name": "ipython",
    "version": 3
   },
   "file_extension": ".py",
   "mimetype": "text/x-python",
   "name": "python",
   "nbconvert_exporter": "python",
   "pygments_lexer": "ipython3",
   "version": "3.12.3"
  }
 },
 "nbformat": 4,
 "nbformat_minor": 5
}
